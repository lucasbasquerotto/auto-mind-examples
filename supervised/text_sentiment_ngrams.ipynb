{
 "cells": [
  {
   "cell_type": "markdown",
   "metadata": {},
   "source": [
    "# Text classification with the torchtext library\n",
    "\n",
    "Based on the tutorial: https://pytorch.org/tutorials/beginner/text_sentiment_ngrams_tutorial.html\n",
    "\n",
    "```\n",
    "pip install -U portalocker>=2.0.0\n",
    "```"
   ]
  },
  {
   "cell_type": "code",
   "execution_count": null,
   "metadata": {},
   "outputs": [],
   "source": [
    "NAME = 'text_sentiment_ngrams'\n",
    "SAVE_PATH = f'data/test/train/{NAME}-checkpoint.pth'\n",
    "REPORT_PATH = f'data/test/train/{NAME}-report.pdf'\n",
    "ROOT_DIR = 'data/ag_news'"
   ]
  },
  {
   "cell_type": "code",
   "execution_count": 1,
   "metadata": {},
   "outputs": [],
   "source": [
    "import sys\n",
    "if \"../\" not in sys.path:\n",
    "  sys.path.append(\"../\")"
   ]
  },
  {
   "cell_type": "code",
   "execution_count": 2,
   "metadata": {},
   "outputs": [],
   "source": [
    "import warnings\n",
    "warnings.filterwarnings('ignore', category=UserWarning)"
   ]
  },
  {
   "cell_type": "markdown",
   "metadata": {},
   "source": [
    "### Access to the raw dataset iterators"
   ]
  },
  {
   "cell_type": "code",
   "execution_count": 3,
   "metadata": {},
   "outputs": [],
   "source": [
    "import torch\n",
    "import typing\n",
    "from torchtext.datasets import AG_NEWS\n",
    "\n",
    "iterable: typing.Any = AG_NEWS(root=ROOT_DIR, split=\"train\")\n",
    "train_iter = iter(iterable)"
   ]
  },
  {
   "cell_type": "code",
   "execution_count": 4,
   "metadata": {},
   "outputs": [
    {
     "data": {
      "text/plain": [
       "(3,\n",
       " \"Wall St. Bears Claw Back Into the Black (Reuters) Reuters - Short-sellers, Wall Street's dwindling\\\\band of ultra-cynics, are seeing green again.\")"
      ]
     },
     "execution_count": 4,
     "metadata": {},
     "output_type": "execute_result"
    }
   ],
   "source": [
    "next(train_iter)"
   ]
  },
  {
   "cell_type": "markdown",
   "metadata": {},
   "source": [
    "### Prepare data processing pipelines"
   ]
  },
  {
   "cell_type": "code",
   "execution_count": 5,
   "metadata": {},
   "outputs": [],
   "source": [
    "from torchtext.data.utils import get_tokenizer\n",
    "from torchtext.vocab import build_vocab_from_iterator\n",
    "\n",
    "tokenizer = get_tokenizer(\"basic_english\")\n",
    "train_iter = AG_NEWS(root=ROOT_DIR, split=\"train\")\n",
    "\n",
    "def yield_tokens(data_iter):\n",
    "    for _, text in data_iter:\n",
    "        yield tokenizer(text)\n",
    "\n",
    "vocab = build_vocab_from_iterator(yield_tokens(train_iter), specials=[\"<unk>\"])\n",
    "vocab.set_default_index(vocab[\"<unk>\"])"
   ]
  },
  {
   "cell_type": "code",
   "execution_count": 6,
   "metadata": {},
   "outputs": [
    {
     "data": {
      "text/plain": [
       "[475, 21, 30, 5297]"
      ]
     },
     "execution_count": 6,
     "metadata": {},
     "output_type": "execute_result"
    }
   ],
   "source": [
    "vocab(['here', 'is', 'an', 'example'])"
   ]
  },
  {
   "cell_type": "code",
   "execution_count": 7,
   "metadata": {},
   "outputs": [],
   "source": [
    "text_pipeline = lambda x: vocab(tokenizer(x))\n",
    "label_pipeline = lambda x: int(x) - 1"
   ]
  },
  {
   "cell_type": "code",
   "execution_count": 8,
   "metadata": {},
   "outputs": [
    {
     "data": {
      "text/plain": [
       "[475, 21, 2, 30, 5297]"
      ]
     },
     "execution_count": 8,
     "metadata": {},
     "output_type": "execute_result"
    }
   ],
   "source": [
    "text_pipeline('here is the an example')"
   ]
  },
  {
   "cell_type": "code",
   "execution_count": 9,
   "metadata": {},
   "outputs": [
    {
     "data": {
      "text/plain": [
       "9"
      ]
     },
     "execution_count": 9,
     "metadata": {},
     "output_type": "execute_result"
    }
   ],
   "source": [
    "label_pipeline('10')"
   ]
  },
  {
   "cell_type": "markdown",
   "metadata": {},
   "source": [
    "### Generate data batch and iterator"
   ]
  },
  {
   "cell_type": "code",
   "execution_count": 10,
   "metadata": {},
   "outputs": [],
   "source": [
    "device = torch.device(\"cuda\" if torch.cuda.is_available() else \"cpu\")\n",
    "\n",
    "def collate_batch(batch):\n",
    "    label_list, text_list = [], []\n",
    "    for _label, _text in batch:\n",
    "        label_list.append(label_pipeline(_label))\n",
    "        processed_text = torch.tensor(text_pipeline(_text), dtype=torch.int64)\n",
    "        text_list.append(processed_text)\n",
    "    label_list = torch.tensor(label_list, dtype=torch.int64)\n",
    "    return text_list, label_list"
   ]
  },
  {
   "cell_type": "markdown",
   "metadata": {},
   "source": [
    "### Define the model"
   ]
  },
  {
   "cell_type": "code",
   "execution_count": 11,
   "metadata": {},
   "outputs": [],
   "source": [
    "from torch import nn\n",
    "\n",
    "class TextClassificationModel(nn.Module):\n",
    "    def __init__(self, vocab_size, embed_dim, num_class):\n",
    "        super(TextClassificationModel, self).__init__()\n",
    "        self.embedding = nn.EmbeddingBag(vocab_size, embed_dim, sparse=False)\n",
    "        self.fc = nn.Linear(embed_dim, num_class)\n",
    "        self.init_weights()\n",
    "\n",
    "    def init_weights(self):\n",
    "        initrange = 0.5\n",
    "        self.embedding.weight.data.uniform_(-initrange, initrange)\n",
    "        self.fc.weight.data.uniform_(-initrange, initrange)\n",
    "        self.fc.bias.data.zero_()\n",
    "\n",
    "    def forward(self, text, offsets):\n",
    "        embedded = self.embedding(text, offsets)\n",
    "        return self.fc(embedded)"
   ]
  },
  {
   "cell_type": "markdown",
   "metadata": {},
   "source": [
    "### Initiate an instance"
   ]
  },
  {
   "cell_type": "code",
   "execution_count": 12,
   "metadata": {},
   "outputs": [],
   "source": [
    "train_iter = AG_NEWS(root=ROOT_DIR, split=\"train\")\n",
    "num_class = len(set([label for (label, text) in train_iter]))\n",
    "vocab_size = len(vocab)\n",
    "emsize = 64\n",
    "model = TextClassificationModel(vocab_size, emsize, num_class).to(device)"
   ]
  },
  {
   "cell_type": "markdown",
   "metadata": {},
   "source": [
    "### Split the dataset"
   ]
  },
  {
   "cell_type": "code",
   "execution_count": 13,
   "metadata": {},
   "outputs": [],
   "source": [
    "from torch.utils.data.dataset import random_split\n",
    "from torchtext.data.functional import to_map_style_dataset\n",
    "from torch.utils.data import DataLoader\n",
    "\n",
    "BATCH_SIZE = 64  # batch size for training\n",
    "\n",
    "train_iter, test_iter = AG_NEWS(root=ROOT_DIR, split=('train', 'test')) # type: ignore\n",
    "train_dataset = to_map_style_dataset(train_iter)\n",
    "test_dataset = to_map_style_dataset(test_iter)\n",
    "num_train = int(len(train_dataset) * 0.95)\n",
    "split_train_, split_valid_ = random_split(\n",
    "    train_dataset, [num_train, len(train_dataset) - num_train]\n",
    ")\n",
    "\n",
    "train_dataloader: DataLoader[tuple[list[torch.Tensor], torch.Tensor]] = DataLoader(\n",
    "    split_train_, batch_size=BATCH_SIZE, shuffle=True, collate_fn=collate_batch\n",
    ")\n",
    "valid_dataloader: DataLoader[tuple[list[torch.Tensor], torch.Tensor]] = DataLoader(\n",
    "    split_valid_, batch_size=BATCH_SIZE, shuffle=True, collate_fn=collate_batch\n",
    ")\n",
    "test_dataloader: DataLoader[tuple[list[torch.Tensor], torch.Tensor]] = DataLoader(\n",
    "    test_dataset, batch_size=BATCH_SIZE, shuffle=True, collate_fn=collate_batch\n",
    ")"
   ]
  },
  {
   "cell_type": "markdown",
   "metadata": {},
   "source": [
    "### Define the Manager"
   ]
  },
  {
   "cell_type": "code",
   "execution_count": 14,
   "metadata": {},
   "outputs": [],
   "source": [
    "from synth_mind import supervised\n",
    "from synth_mind.supervised.handlers import MaxProbEvaluator, GeneralBatchAccuracyCalculator, BatchExecutor, BatchExecutorParams\n",
    "from lib.metrics import MainMetrics\n",
    "\n",
    "criterion = torch.nn.CrossEntropyLoss()\n",
    "optimizer = torch.optim.SGD(model.parameters(), lr=5)\n",
    "scheduler = torch.optim.lr_scheduler.StepLR(optimizer, 1, gamma=0.1)\n",
    "\n",
    "class MyBatchExecutor(BatchExecutor[list[torch.Tensor], torch.Tensor]):\n",
    "    def run(self, params: BatchExecutorParams[list[torch.Tensor], torch.Tensor]) -> torch.Tensor:\n",
    "        model = params.model\n",
    "        text_list = params.input\n",
    "        texts_cat = torch.cat(text_list)\n",
    "        all_offsets = [0] + [len(text) for text in text_list]\n",
    "        offsets = torch.tensor(all_offsets[:-1]).cumsum(dim=0)\n",
    "        predicted_label = model(texts_cat, offsets)\n",
    "        return predicted_label\n",
    "\n",
    "    def main_output(self, output: typing.Any) -> typing.Any:\n",
    "        return output\n",
    "\n",
    "manager = supervised.Manager(\n",
    "    data_params=supervised.ManagerDataParams(\n",
    "        train_dataloader=train_dataloader,\n",
    "        validation_dataloader=valid_dataloader,\n",
    "        test_dataloader=test_dataloader,\n",
    "    ),\n",
    "    model_params=supervised.ManagerModelParams(\n",
    "        model=model,\n",
    "        criterion=criterion,\n",
    "        executor=MyBatchExecutor(),\n",
    "        use_best=False,\n",
    "        clip_grad_max=0.1,\n",
    "    ),\n",
    "    optimizer_params=supervised.ManagerOptimizerParams(\n",
    "        optimizer=optimizer,\n",
    "        scheduler=scheduler,\n",
    "        step_only_on_accuracy_loss=True,\n",
    "    ),\n",
    "    metrics_params=supervised.ManagerMetricsParams(\n",
    "        evaluator=MaxProbEvaluator(executor=MyBatchExecutor()),\n",
    "        accuracy_calculator=GeneralBatchAccuracyCalculator(),\n",
    "        metrics_calculator=MainMetrics(name=NAME).as_file_plotter(REPORT_PATH, figsize=(8, 8)),\n",
    "        batch_interval=True,\n",
    "        default_interval=500,\n",
    "    ),\n",
    "    config=supervised.ManagerConfig(\n",
    "        save_path=SAVE_PATH,\n",
    "        random_seed=0,\n",
    "    ),\n",
    ")"
   ]
  },
  {
   "cell_type": "markdown",
   "metadata": {},
   "source": [
    "### Run the model (training + validation + test)"
   ]
  },
  {
   "cell_type": "code",
   "execution_count": 15,
   "metadata": {},
   "outputs": [
    {
     "name": "stdout",
     "output_type": "stream",
     "text": [
      "Starting training for 10 epochs...\n",
      "> [train] [epoch 1 ( 10.0%)] [batch:  500/1782] [time:   0m 13.20s] [accuracy:  68.5%] [loss: 0.0128]\n",
      "> [train] [epoch 1 ( 10.0%)] [batch: 1000/1782] [time:   0m 28.56s] [accuracy:  85.5%] [loss: 0.0067]\n",
      "> [train] [epoch 1 ( 10.0%)] [batch: 1500/1782] [time:   0m 41.91s] [accuracy:  87.4%] [loss: 0.0059]\n",
      "> [train] [epoch 1 ( 10.0%)] [batch: 1782/1782] [time:   0m 49.37s] [accuracy:  88.3%] [loss: 0.0054]\n",
      "------------------------------------------------------------------------------------------------------\n",
      "> [validation] [epoch 1 ( 10.0%)] [batch: 94/94] [time:    0m 0.39s] [accuracy:  89.0%] [loss: 0.0052]\n",
      "---------------------------------------------------------------------------------------------------------------------------------------------------\n",
      "[end of epoch 1 ( 10.0%)] [time:   0m 49.84s (-   7m 28.58s)] [val_accuracy:  89.0%, train_accuracy:  81.7%] [val_loss: 0.0052, train_loss: 0.0080]\n",
      "===================================================================================================================================================\n",
      "> [train] [epoch 2 ( 20.0%)] [batch:  500/1782] [time:   0m 13.12s] [accuracy:  89.7%] [loss: 0.0049]\n",
      "> [train] [epoch 2 ( 20.0%)] [batch: 1000/1782] [time:   0m 26.55s] [accuracy:  90.0%] [loss: 0.0048]\n",
      "> [train] [epoch 2 ( 20.0%)] [batch: 1500/1782] [time:   0m 40.09s] [accuracy:  90.1%] [loss: 0.0046]\n",
      "> [train] [epoch 2 ( 20.0%)] [batch: 1782/1782] [time:   0m 47.68s] [accuracy:  90.3%] [loss: 0.0045]\n",
      "------------------------------------------------------------------------------------------------------\n",
      "> [validation] [epoch 2 ( 20.0%)] [batch: 94/94] [time:    0m 0.42s] [accuracy:  90.3%] [loss: 0.0047]\n",
      "---------------------------------------------------------------------------------------------------------------------------------------------------\n",
      "[end of epoch 2 ( 20.0%)] [time:   1m 38.06s (-   6m 32.23s)] [val_accuracy:  90.3%, train_accuracy:  90.0%] [val_loss: 0.0047, train_loss: 0.0047]\n",
      "===================================================================================================================================================\n",
      "> [train] [epoch 3 ( 30.0%)] [batch:  500/1782] [time:   0m 13.02s] [accuracy:  91.3%] [loss: 0.0041]\n",
      "> [train] [epoch 3 ( 30.0%)] [batch: 1000/1782] [time:   0m 27.42s] [accuracy:  91.2%] [loss: 0.0041]\n",
      "> [train] [epoch 3 ( 30.0%)] [batch: 1500/1782] [time:   0m 41.11s] [accuracy:  91.7%] [loss: 0.0039]\n",
      "> [train] [epoch 3 ( 30.0%)] [batch: 1782/1782] [time:   0m 48.98s] [accuracy:  91.3%] [loss: 0.0042]\n",
      "------------------------------------------------------------------------------------------------------\n",
      "> [validation] [epoch 3 ( 30.0%)] [batch: 94/94] [time:    0m 0.49s] [accuracy:  90.5%] [loss: 0.0044]\n",
      "---------------------------------------------------------------------------------------------------------------------------------------------------\n",
      "[end of epoch 3 ( 30.0%)] [time:   2m 27.64s (-   5m 44.50s)] [val_accuracy:  90.5%, train_accuracy:  91.4%] [val_loss: 0.0044, train_loss: 0.0041]\n",
      "===================================================================================================================================================\n",
      "> [train] [epoch 4 ( 40.0%)] [batch:  500/1782] [time:   0m 13.38s] [accuracy:  92.2%] [loss: 0.0036]\n",
      "> [train] [epoch 4 ( 40.0%)] [batch: 1000/1782] [time:   0m 26.65s] [accuracy:  92.1%] [loss: 0.0037]\n",
      "> [train] [epoch 4 ( 40.0%)] [batch: 1500/1782] [time:   0m 40.22s] [accuracy:  92.3%] [loss: 0.0037]\n",
      "> [train] [epoch 4 ( 40.0%)] [batch: 1782/1782] [time:   0m 47.67s] [accuracy:  92.5%] [loss: 0.0037]\n",
      "------------------------------------------------------------------------------------------------------\n",
      "> [validation] [epoch 4 ( 40.0%)] [batch: 94/94] [time:    0m 0.40s] [accuracy:  90.9%] [loss: 0.0043]\n",
      "---------------------------------------------------------------------------------------------------------------------------------------------------\n",
      "[end of epoch 4 ( 40.0%)] [time:   3m 15.84s (-   4m 53.76s)] [val_accuracy:  90.9%, train_accuracy:  92.3%] [val_loss: 0.0043, train_loss: 0.0037]\n",
      "===================================================================================================================================================\n",
      "> [train] [epoch 5 ( 50.0%)] [batch:  500/1782] [time:   0m 13.61s] [accuracy:  92.9%] [loss: 0.0034]\n",
      "> [train] [epoch 5 ( 50.0%)] [batch: 1000/1782] [time:   0m 26.85s] [accuracy:  92.7%] [loss: 0.0034]\n",
      "> [train] [epoch 5 ( 50.0%)] [batch: 1500/1782] [time:   0m 40.53s] [accuracy:  93.2%] [loss: 0.0033]\n",
      "> [train] [epoch 5 ( 50.0%)] [batch: 1782/1782] [time:   0m 48.06s] [accuracy:  92.9%] [loss: 0.0034]\n",
      "------------------------------------------------------------------------------------------------------\n",
      "> [validation] [epoch 5 ( 50.0%)] [batch: 94/94] [time:    0m 0.74s] [accuracy:  91.4%] [loss: 0.0042]\n",
      "---------------------------------------------------------------------------------------------------------------------------------------------------\n",
      "[end of epoch 5 ( 50.0%)] [time:    4m 4.78s (-    4m 4.78s)] [val_accuracy:  91.4%, train_accuracy:  92.9%] [val_loss: 0.0042, train_loss: 0.0034]\n",
      "===================================================================================================================================================\n",
      "> [train] [epoch 6 ( 60.0%)] [batch:  500/1782] [time:   0m 12.36s] [accuracy:  93.6%] [loss: 0.0030]\n",
      "> [train] [epoch 6 ( 60.0%)] [batch: 1000/1782] [time:   0m 25.18s] [accuracy:  93.6%] [loss: 0.0030]\n",
      "> [train] [epoch 6 ( 60.0%)] [batch: 1500/1782] [time:   0m 38.45s] [accuracy:  93.1%] [loss: 0.0033]\n",
      "> [train] [epoch 6 ( 60.0%)] [batch: 1782/1782] [time:   0m 46.29s] [accuracy:  93.2%] [loss: 0.0033]\n",
      "------------------------------------------------------------------------------------------------------\n",
      "> [validation] [epoch 6 ( 60.0%)] [batch: 94/94] [time:    0m 0.48s] [accuracy:  91.3%] [loss: 0.0042]\n",
      "---------------------------------------------------------------------------------------------------------------------------------------------------\n",
      "[end of epoch 6 ( 60.0%)] [time:   4m 51.67s (-   3m 14.45s)] [val_accuracy:  91.3%, train_accuracy:  93.4%] [val_loss: 0.0042, train_loss: 0.0031]\n",
      "===================================================================================================================================================\n",
      "> [train] [epoch 7 ( 70.0%)] [batch:  500/1782] [time:   0m 15.77s] [accuracy:  94.7%] [loss: 0.0026]\n",
      "> [train] [epoch 7 ( 70.0%)] [batch: 1000/1782] [time:   0m 28.68s] [accuracy:  94.8%] [loss: 0.0026]\n",
      "> [train] [epoch 7 ( 70.0%)] [batch: 1500/1782] [time:   0m 40.25s] [accuracy:  94.7%] [loss: 0.0026]\n",
      "> [train] [epoch 7 ( 70.0%)] [batch: 1782/1782] [time:   0m 47.18s] [accuracy:  94.8%] [loss: 0.0026]\n",
      "------------------------------------------------------------------------------------------------------\n",
      "> [validation] [epoch 7 ( 70.0%)] [batch: 94/94] [time:    0m 0.37s] [accuracy:  91.6%] [loss: 0.0040]\n",
      "---------------------------------------------------------------------------------------------------------------------------------------------------\n",
      "[end of epoch 7 ( 70.0%)] [time:   5m 39.36s (-   2m 25.44s)] [val_accuracy:  91.6%, train_accuracy:  94.7%] [val_loss: 0.0040, train_loss: 0.0026]\n",
      "===================================================================================================================================================\n",
      "> [train] [epoch 8 ( 80.0%)] [batch:  500/1782] [time:   0m 11.62s] [accuracy:  94.8%] [loss: 0.0025]\n",
      "> [train] [epoch 8 ( 80.0%)] [batch: 1000/1782] [time:   0m 24.55s] [accuracy:  95.0%] [loss: 0.0025]\n",
      "> [train] [epoch 8 ( 80.0%)] [batch: 1500/1782] [time:   0m 37.94s] [accuracy:  94.7%] [loss: 0.0026]\n",
      "> [train] [epoch 8 ( 80.0%)] [batch: 1782/1782] [time:   0m 45.01s] [accuracy:  95.0%] [loss: 0.0026]\n",
      "------------------------------------------------------------------------------------------------------\n",
      "> [validation] [epoch 8 ( 80.0%)] [batch: 94/94] [time:    0m 0.44s] [accuracy:  91.7%] [loss: 0.0040]\n",
      "---------------------------------------------------------------------------------------------------------------------------------------------------\n",
      "[end of epoch 8 ( 80.0%)] [time:   6m 24.94s (-   1m 36.23s)] [val_accuracy:  91.7%, train_accuracy:  94.9%] [val_loss: 0.0040, train_loss: 0.0025]\n",
      "===================================================================================================================================================\n",
      "> [train] [epoch 9 ( 90.0%)] [batch:  500/1782] [time:   0m 12.59s] [accuracy:  94.9%] [loss: 0.0025]\n",
      "> [train] [epoch 9 ( 90.0%)] [batch: 1000/1782] [time:   0m 25.33s] [accuracy:  95.0%] [loss: 0.0025]\n",
      "> [train] [epoch 9 ( 90.0%)] [batch: 1500/1782] [time:   0m 38.12s] [accuracy:  95.0%] [loss: 0.0025]\n",
      "> [train] [epoch 9 ( 90.0%)] [batch: 1782/1782] [time:   0m 45.26s] [accuracy:  94.7%] [loss: 0.0026]\n",
      "------------------------------------------------------------------------------------------------------\n",
      "> [validation] [epoch 9 ( 90.0%)] [batch: 94/94] [time:    0m 0.44s] [accuracy:  91.7%] [loss: 0.0040]\n",
      "---------------------------------------------------------------------------------------------------------------------------------------------------\n",
      "[end of epoch 9 ( 90.0%)] [time:   7m 10.75s (-   0m 47.86s)] [val_accuracy:  91.7%, train_accuracy:  94.9%] [val_loss: 0.0040, train_loss: 0.0025]\n",
      "===================================================================================================================================================\n",
      "> [train] [epoch 10 (100.0%)] [batch:  500/1782] [time:   0m 12.31s] [accuracy:  95.1%] [loss: 0.0024]\n",
      "> [train] [epoch 10 (100.0%)] [batch: 1000/1782] [time:   0m 24.55s] [accuracy:  94.9%] [loss: 0.0025]\n",
      "> [train] [epoch 10 (100.0%)] [batch: 1500/1782] [time:   0m 36.91s] [accuracy:  95.0%] [loss: 0.0025]\n",
      "> [train] [epoch 10 (100.0%)] [batch: 1782/1782] [time:   0m 43.80s] [accuracy:  95.1%] [loss: 0.0026]\n",
      "-------------------------------------------------------------------------------------------------------\n",
      "> [validation] [epoch 10 (100.0%)] [batch: 94/94] [time:    0m 0.45s] [accuracy:  91.9%] [loss: 0.0040]\n",
      "----------------------------------------------------------------------------------------------------------------------------------------------------\n",
      "[end of epoch 10 (100.0%)] [time:   7m 55.14s (-    0m 0.00s)] [val_accuracy:  91.9%, train_accuracy:  95.0%] [val_loss: 0.0040, train_loss: 0.0025]\n",
      "====================================================================================================================================================\n",
      "[test] [batch: 119/119] [time:    0m 0.48s] [accuracy:  90.7%] [loss: 0.0046]\n"
     ]
    },
    {
     "data": {
      "image/png": "[encoded data removed]",
      "text/plain": [
       "<Figure size 800x800 with 3 Axes>"
      ]
     },
     "metadata": {},
     "output_type": "display_data"
    }
   ],
   "source": [
    "manager.train(epochs=10)"
   ]
  },
  {
   "cell_type": "markdown",
   "metadata": {},
   "source": [
    "### Test on a random news"
   ]
  },
  {
   "cell_type": "code",
   "execution_count": 31,
   "metadata": {},
   "outputs": [],
   "source": [
    "ag_news_label = {1: \"World\", 2: \"Sports\", 3: \"Business\", 4: \"Sci/Tec\"}\n",
    "\n",
    "model = model.to(\"cpu\")\n",
    "\n",
    "def predict(text: str, text_pipeline: typing.Callable[[str], typing.Any]) -> int:\n",
    "    with torch.no_grad():\n",
    "        text_tensor = torch.tensor(text_pipeline(text))\n",
    "        result = manager.evaluate([text_tensor])\n",
    "        _, label = result.prediction\n",
    "        return label + 1"
   ]
  },
  {
   "cell_type": "code",
   "execution_count": 32,
   "metadata": {},
   "outputs": [
    {
     "name": "stdout",
     "output_type": "stream",
     "text": [
      "This is a Sports news\n"
     ]
    }
   ],
   "source": [
    "# Sports example\n",
    "ex_text_str = \"MEMPHIS, Tenn. - Four days ago, Jon Rahm was \\\n",
    "    enduring the season's worst weather conditions on Sunday at The \\\n",
    "    Open on his way to a closing 75 at Royal Portrush, which \\\n",
    "    considering the wind and the rain was a respectable showing. \\\n",
    "    Thursday's first round at the WGC-FedEx St. Jude Invitational \\\n",
    "    was another story. With temperatures in the mid-80s and hardly any \\\n",
    "    wind, the Spaniard was 13 strokes better in a flawless round. \\\n",
    "    Thanks to his best putting performance on the PGA Tour, Rahm \\\n",
    "    finished with an 8-under 62 for a three-stroke lead, which \\\n",
    "    was even more impressive considering he'd never played the \\\n",
    "    front nine at TPC Southwind.\"\n",
    "\n",
    "print(\"This is a %s news\" % ag_news_label[predict(ex_text_str, text_pipeline)])"
   ]
  },
  {
   "cell_type": "code",
   "execution_count": 33,
   "metadata": {},
   "outputs": [
    {
     "name": "stdout",
     "output_type": "stream",
     "text": [
      "This is a Business news\n"
     ]
    }
   ],
   "source": [
    "# Business example\n",
    "ex_text_str = \"Intel Corp. on Thursday reported second-quarter profit of $5.06 billion.\"\n",
    "\n",
    "print(\"This is a %s news\" % ag_news_label[predict(ex_text_str, text_pipeline)])"
   ]
  },
  {
   "cell_type": "code",
   "execution_count": 34,
   "metadata": {},
   "outputs": [
    {
     "name": "stdout",
     "output_type": "stream",
     "text": [
      "This is a Sci/Tec news\n"
     ]
    }
   ],
   "source": [
    "# Sci/Tec example\n",
    "ex_text_str = \"The U.S. Department of Commerce is set to announce a new set of regulations on Wednesday that are aimed at limiting exports of specific technologies to China.\"\n",
    "\n",
    "print(\"This is a %s news\" % ag_news_label[predict(ex_text_str, text_pipeline)])"
   ]
  },
  {
   "cell_type": "code",
   "execution_count": 35,
   "metadata": {},
   "outputs": [
    {
     "name": "stdout",
     "output_type": "stream",
     "text": [
      "This is a World news\n"
     ]
    }
   ],
   "source": [
    "# World example\n",
    "ex_text_str = \"In Oceania, there are only four countries, with the biggest being Australia.\"\n",
    "\n",
    "print(\"This is a %s news\" % ag_news_label[predict(ex_text_str, text_pipeline)])"
   ]
  }
 ],
 "metadata": {
  "kernelspec": {
   "display_name": "base",
   "language": "python",
   "name": "python3"
  },
  "language_info": {
   "codemirror_mode": {
    "name": "ipython",
    "version": 3
   },
   "file_extension": ".py",
   "mimetype": "text/x-python",
   "name": "python",
   "nbconvert_exporter": "python",
   "pygments_lexer": "ipython3",
   "version": "3.11.5"
  }
 },
 "nbformat": 4,
 "nbformat_minor": 2
}
